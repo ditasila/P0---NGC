{
 "cells": [
  {
   "cell_type": "code",
   "execution_count": 4,
   "metadata": {},
   "outputs": [],
   "source": [
    "import numpy as np"
   ]
  },
  {
   "cell_type": "code",
   "execution_count": 5,
   "metadata": {},
   "outputs": [
    {
     "name": "stdout",
     "output_type": "stream",
     "text": [
      "[17 22 19]\n"
     ]
    }
   ],
   "source": [
    "# 1\n",
    "\n",
    "A = [17,22,19]\n",
    "vect_a = np.array(A)\n",
    "print (vect_a)"
   ]
  },
  {
   "cell_type": "code",
   "execution_count": 15,
   "metadata": {},
   "outputs": [
    {
     "name": "stdout",
     "output_type": "stream",
     "text": [
      "- A + B =\n",
      "[27 42 30]\n",
      "\n",
      "- B - C =\n",
      "[5 8 2]\n",
      "\n",
      "- A dot C =\n",
      "520\n",
      "\n",
      "- A * B =\n",
      "[170 440 209]\n",
      "\n",
      "Norm A = \n",
      "33.67491648096547\n",
      "\n",
      "Sudut antara vektor A dan B = \n",
      "0.9759590023331435\n"
     ]
    }
   ],
   "source": [
    "#2\n",
    "\n",
    "A = [17,22,19]\n",
    "B = [10,20,11]\n",
    "C = [5,12,9]\n",
    "\n",
    "vect_a = np.array(A)\n",
    "vect_b = np.array(B)\n",
    "vect_c = np.array(C)\n",
    "\n",
    "print (\"- A + B =\")\n",
    "print (vect_a + vect_b)\n",
    "print ('')\n",
    "\n",
    "print (\"- B - C =\")\n",
    "print (vect_b - vect_c)\n",
    "print ('')\n",
    "\n",
    "print (\"- A dot C =\")\n",
    "print (vect_a @ vect_c) \n",
    "print ('')\n",
    "\n",
    "print (\"- A * B =\")\n",
    "print (vect_a * vect_b)\n",
    "print ('')\n",
    "\n",
    "print (\"Norm A = \")\n",
    "print (np.linalg.norm(vect_a))\n",
    "print ('')\n",
    "\n",
    "print (\"Sudut antara vektor A dan B = \")\n",
    "cost_a = (vect_a @ vect_b) / (np.linalg.norm(vect_a) * np.linalg.norm(vect_b))\n",
    "print (cost_a)"
   ]
  },
  {
   "cell_type": "code",
   "execution_count": 26,
   "metadata": {},
   "outputs": [],
   "source": [
    "# 3\n",
    "\n",
    "import matplotlib.pyplot as plt\n"
   ]
  },
  {
   "cell_type": "code",
   "execution_count": 31,
   "metadata": {},
   "outputs": [
    {
     "data": {
      "image/png": "[encoded data removed]",
      "text/plain": [
       "<Figure size 640x480 with 1 Axes>"
      ]
     },
     "metadata": {},
     "output_type": "display_data"
    }
   ],
   "source": [
    "\n",
    "v = [2,5]\n",
    "w = [3,1]\n",
    "\n",
    "array = np.array([[0, 0, v[0], v[1]], \n",
    "                 [0, 0, w[0], w[1]]])\n",
    "\n",
    "X, Y, V, W = zip(*array)\n",
    "plt.figure()\n",
    "plt.ylabel('Y-axis')\n",
    "plt.xlabel('X-axis')\n",
    "ax = plt.gca()\n",
    "ax.annotate(f'v({v[0]},{v[1]})', (v[0],v[1]),fontsize=14)\n",
    "plt.scatter(v[0],v[1], s=10,c='red')\n",
    "ax.annotate(f'w({w[0]},{w[1]})', (w[0],w[1]),fontsize=14)\n",
    "plt.scatter(w[0], w[1], s=10,c='blue')\n",
    "ax.quiver(X, Y, V, W, angles='xy', scale_units='xy',color=['r','b'],scale=1)\n",
    "ax.set_xlim([0, 10])\n",
    "ax.set_ylim([0, 10])\n",
    "\n",
    "plt.grid()\n",
    "plt.draw()"
   ]
  },
  {
   "cell_type": "code",
   "execution_count": null,
   "metadata": {},
   "outputs": [],
   "source": []
  }
 ],
 "metadata": {
  "kernelspec": {
   "display_name": "Python 3.11.0 64-bit",
   "language": "python",
   "name": "python3"
  },
  "language_info": {
   "codemirror_mode": {
    "name": "ipython",
    "version": 3
   },
   "file_extension": ".py",
   "mimetype": "text/x-python",
   "name": "python",
   "nbconvert_exporter": "python",
   "pygments_lexer": "ipython3",
   "version": "3.11.0"
  },
  "orig_nbformat": 4,
  "vscode": {
   "interpreter": {
    "hash": "bd515da7b6b96552b54afac513d0716c9696ec40e25d799991196c4080ab6efd"
   }
  }
 },
 "nbformat": 4,
 "nbformat_minor": 2
}
