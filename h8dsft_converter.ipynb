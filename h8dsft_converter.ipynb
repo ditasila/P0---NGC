{
 "cells": [
  {
   "cell_type": "code",
   "execution_count": 19,
   "metadata": {},
   "outputs": [
    {
     "name": "stdout",
     "output_type": "stream",
     "text": [
      "20 Kelvin = -253.1 Celcius\n",
      "20 Kelvin = -423.7 Fahrenheit\n",
      "20 Kelvin = -202.4 Reamur\n",
      "done\n"
     ]
    }
   ],
   "source": [
    "def konversiSuhu(suhu):\n",
    "   drjt = int(suhu[:-1])\n",
    "   inputan = suhu[-1]\n",
    "\n",
    "   if inputan.upper() == \"C\":\n",
    "     hasil1 = float((9 * drjt) / 5 + 32)\n",
    "     hasil2 = float(drjt + 273.15)\n",
    "     hasil3 = float(4/5 * drjt)\n",
    "     jenisX = \"Celcius\"\n",
    "     jenis1 = \"Fahrenheit\"\n",
    "     jenis2 = \"Kelvin\"\n",
    "     jenis3 = \"Reamur\"\n",
    "     print(drjt,jenisX,\"=\",\"{:.1f}\".format(hasil1),jenis1)\n",
    "     print(drjt,jenisX,\"=\",\"{:.1f}\".format(hasil3),jenis3)\n",
    "     print(drjt,jenisX,\"=\",\"{:.1f}\".format(hasil2),jenis2)\n",
    "                \n",
    "   elif inputan.upper() == \"F\":\n",
    "     hasil1 = float((drjt - 32) * 5 / 9)\n",
    "     hasil2 = float(((drjt - 32) * 5 / 9) + 273.15)\n",
    "     hasil3 = float(4/9 * (drjt-32))\n",
    "     jenisX = \"Fahrenheit\"\n",
    "     jenis1 = \"Celsius\"\n",
    "     jenis2 = \"Kelvin\"\n",
    "     jenis3 = \"Reamur\"\n",
    "     print(drjt,jenisX,\"=\",\"{:.1f}\".format(hasil1),jenis1)\n",
    "     print(drjt,jenisX,\"=\",\"{:.1f}\".format(hasil2),jenis2)\n",
    "     print(drjt,jenisX,\"=\",\"{:.1f}\".format(hasil3),jenis3)\n",
    "\n",
    "   elif inputan.upper() == \"K\":\n",
    "     hasil1 = float(drjt - 273.15)\n",
    "     hasil2 = float(((drjt - 273.15) * 9 / 5)+32)\n",
    "     hasil3 = float(4/5 * (drjt-273))\n",
    "     jenisX = \"Kelvin\"\n",
    "     jenis1 = \"Celcius\"\n",
    "     jenis2 = \"Fahrenheit\"\n",
    "     jenis3 = \"Reamur\"\n",
    "     print(drjt,jenisX,\"=\",\"{:.1f}\".format(hasil1),jenis1)\n",
    "     print(drjt,jenisX,\"=\",\"{:.1f}\".format(hasil2),jenis2)\n",
    "     print(drjt,jenisX,\"=\",\"{:.1f}\".format(hasil3),jenis3)\n",
    "     \n",
    "   elif inputan.upper() == \"R\":\n",
    "     hasil1 = float((5/4) * drjt)\n",
    "     hasil2 = float((9/4 * drjt) + 32)\n",
    "     hasil3 = float((5/4 * drjt) + 273)\n",
    "     jenisX = \"Reamur\"\n",
    "     jenis1 = \"Celcius\"\n",
    "     jenis2 = \"Fahrenheit\"\n",
    "     jenis3 = \"Kelvin\"\n",
    "     print(drjt,jenisX,\"=\",\"{:.1f}\".format(hasil1),jenis1)\n",
    "     print(drjt,jenisX,\"=\",\"{:.1f}\".format(hasil2),jenis2)\n",
    "     print(drjt,jenisX,\"=\",\"{:.1f}\".format(hasil3),jenis3)\n",
    "     \n",
    "   else:\n",
    "      print(\"Inputan tidak sesuai!! Perhatikan Penulisan Input\")\n",
    "\n",
    "\n",
    "i=0\n",
    "limit = 2\n",
    "while i==0:\n",
    "   temp = input(\"\\nMasukan suhu? (Misal: 30C, 20F, 21K, 44R): \")\n",
    "   konversiSuhu(temp)\n",
    "   i += 1\n",
    "   if i == limit:\n",
    "    break\n",
    "   print('done')"
   ]
  },
  {
   "cell_type": "code",
   "execution_count": null,
   "metadata": {},
   "outputs": [],
   "source": []
  }
 ],
 "metadata": {
  "kernelspec": {
   "display_name": "Python 3.11.0 64-bit",
   "language": "python",
   "name": "python3"
  },
  "language_info": {
   "codemirror_mode": {
    "name": "ipython",
    "version": 3
   },
   "file_extension": ".py",
   "mimetype": "text/x-python",
   "name": "python",
   "nbconvert_exporter": "python",
   "pygments_lexer": "ipython3",
   "version": "3.11.0"
  },
  "orig_nbformat": 4,
  "vscode": {
   "interpreter": {
    "hash": "bd515da7b6b96552b54afac513d0716c9696ec40e25d799991196c4080ab6efd"
   }
  }
 },
 "nbformat": 4,
 "nbformat_minor": 2
}
