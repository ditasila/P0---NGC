{
 "cells": [
  {
   "cell_type": "code",
   "execution_count": 1,
   "metadata": {},
   "outputs": [],
   "source": [
    "import numpy as np\n",
    "import sympy as sy\n",
    "from sympy import *\n",
    "x = Symbol('x')"
   ]
  },
  {
   "cell_type": "code",
   "execution_count": 5,
   "metadata": {},
   "outputs": [
    {
     "name": "stdout",
     "output_type": "stream",
     "text": [
      "[[0.73469388 0.73469388 0.73469388 ... 0.73469388 0.73469388 0.73469388]\n",
      " [0.73469388 0.73469388 0.73469388 ... 0.73469388 0.73469388 0.73469388]\n",
      " [0.73469388 0.73469388 0.73469388 ... 0.73469388 0.73469388 0.73469388]\n",
      " ...\n",
      " [0.73469388 0.73469388 0.73469388 ... 0.73469388 0.73469388 0.73469388]\n",
      " [0.73469388 0.73469388 0.73469388 ... 0.73469388 0.73469388 0.73469388]\n",
      " [0.73469388 0.73469388 0.73469388 ... 0.73469388 0.73469388 0.73469388]] [[0.55102041 0.55102041 0.55102041 ... 0.55102041 0.55102041 0.55102041]\n",
      " [0.55102041 0.55102041 0.55102041 ... 0.55102041 0.55102041 0.55102041]\n",
      " [0.55102041 0.55102041 0.55102041 ... 0.55102041 0.55102041 0.55102041]\n",
      " ...\n",
      " [0.55102041 0.55102041 0.55102041 ... 0.55102041 0.55102041 0.55102041]\n",
      " [0.55102041 0.55102041 0.55102041 ... 0.55102041 0.55102041 0.55102041]\n",
      " [0.55102041 0.55102041 0.55102041 ... 0.55102041 0.55102041 0.55102041]]\n"
     ]
    }
   ],
   "source": [
    "def f(x,y):\n",
    "    return 3*x + 4*y - 5\n",
    "\n",
    "x = np.linspace(1,10)\n",
    "y = np.linspace(1,10)\n",
    "\n",
    "z = np.array([[f(i,j) for i in x] for j in y])\n",
    "dx,dy = np.gradient(z)\n",
    "print (dx, dy)\n"
   ]
  },
  {
   "cell_type": "code",
   "execution_count": null,
   "metadata": {},
   "outputs": [],
   "source": []
  }
 ],
 "metadata": {
  "kernelspec": {
   "display_name": "Python 3.11.0 64-bit",
   "language": "python",
   "name": "python3"
  },
  "language_info": {
   "codemirror_mode": {
    "name": "ipython",
    "version": 3
   },
   "file_extension": ".py",
   "mimetype": "text/x-python",
   "name": "python",
   "nbconvert_exporter": "python",
   "pygments_lexer": "ipython3",
   "version": "3.11.0"
  },
  "orig_nbformat": 4,
  "vscode": {
   "interpreter": {
    "hash": "bd515da7b6b96552b54afac513d0716c9696ec40e25d799991196c4080ab6efd"
   }
  }
 },
 "nbformat": 4,
 "nbformat_minor": 2
}
